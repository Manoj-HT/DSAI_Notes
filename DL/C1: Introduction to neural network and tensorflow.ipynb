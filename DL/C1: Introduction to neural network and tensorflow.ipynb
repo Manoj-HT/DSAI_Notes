{
 "cells": [
  {
   "cell_type": "markdown",
   "id": "8bea699b",
   "metadata": {},
   "source": [
    "∙ Introduction to neural networks <br>\n",
    "o Neural Networks <br>\n",
    "o Neurons <br>\n",
    "∙ Activation functions <br>\n",
    "o Sigmoid, Tanh, ReLU <br>\n",
    "∙ Feed Forward neural network <br>\n",
    "o Layer Details <br>\n",
    "∙ Training a neural network <br>\n",
    "∙ Error and Loss function <br>\n",
    "∙ Optimization <br>\n",
    "∙ Gradient descent <br>\n",
    "o Gradient <br>\n",
    "o Gradient Descent Variations <br>\n",
    "o Backpropagation <br>\n",
    "∙ Introduction to Tensorflow and Keras. <br>"
   ]
  },
  {
   "cell_type": "markdown",
   "id": "ffece096",
   "metadata": {},
   "source": [
    "# INTRODUCTION TO NEURAL NETWPRKS AND TENSORFLOW\n",
    "\n",
    "## Neuron\n",
    "- A neuron is a mathematical function that takes input, processes them and produces output\n",
    "- It is a computational unit that:\n",
    "    1. Recieves inputs\n",
    "    2. Applies weights to each input\n",
    "    3. Sumbs them up and adds a bias term\n",
    "        - $\\mathrm{z} = \\sum(w_i \\cdot x_i) + b$\n",
    "    4. Passes the result to an activation function to introduce non-linearity\n",
    "        - $\\mathrm{y} = f(z)$\n",
    "- Neurons are also called as unit or nodes\n",
    "\n",
    "## Neural Network\n",
    "- It is a computational model inspired by how the human brain works\n",
    "- It consists of layers of nodes/neurons connected by weighted links\n",
    "- Layers\n",
    "    - Input Layer $\\to$ takes raw data\n",
    "    - Hidden layers $\\to$ extract feature through transformations\n",
    "    - Ouput layer $\\to$ gives the prediction\n",
    "- During training, it adjusts weights using backpropogation with an optimizer like gradient descent\n"
   ]
  },
  {
   "cell_type": "code",
   "execution_count": 2,
   "id": "bc4a25ac",
   "metadata": {},
   "outputs": [
    {
     "name": "stdout",
     "output_type": "stream",
     "text": [
      "Neuron raw output:  2.90\n"
     ]
    }
   ],
   "source": [
    "# Inputs: restaurant features\n",
    "price = 3 # scale 1 to 5 -> cheap to expensive\n",
    "rating = 4 # scale 1 to 5 -> bad to excellent\n",
    "\n",
    "# Weights: How much you care about each\n",
    "w_price = -0.8 # you prefer cheaper, so negative weights \n",
    "w_rating = 1.2 # you prefer good ratings, so positive weights\n",
    "\n",
    "# Bias: general tendency to eat out\n",
    "bias = 0.5\n",
    "\n",
    "# Neuron calculation\n",
    "output = (price *  w_price) + (rating * w_rating) + bias\n",
    "print(f\"Neuron raw output: {output: .2f}\")"
   ]
  },
  {
   "cell_type": "markdown",
   "id": "ac85cf16",
   "metadata": {},
   "source": [
    "## Activation functions"
   ]
  }
 ],
 "metadata": {
  "kernelspec": {
   "display_name": "myenv",
   "language": "python",
   "name": "python3"
  },
  "language_info": {
   "codemirror_mode": {
    "name": "ipython",
    "version": 3
   },
   "file_extension": ".py",
   "mimetype": "text/x-python",
   "name": "python",
   "nbconvert_exporter": "python",
   "pygments_lexer": "ipython3",
   "version": "3.12.11"
  }
 },
 "nbformat": 4,
 "nbformat_minor": 5
}

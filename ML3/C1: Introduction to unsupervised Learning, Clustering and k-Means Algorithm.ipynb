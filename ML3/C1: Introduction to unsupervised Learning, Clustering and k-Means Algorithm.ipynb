{
 "cells": [
  {
   "cell_type": "markdown",
   "id": "23b63c7e",
   "metadata": {},
   "source": [
    "# C1: INTRODUCTION TO UNSUPERVISED LEARNING, CLUSTERING AND K-MEANS ALGORTHM"
   ]
  },
  {
   "cell_type": "markdown",
   "id": "d01806f8",
   "metadata": {},
   "source": [
    "## Introduction to unsupervised learning\n",
    "- **Definition :** A type of machine learning where the model is trained on unlabelered data (no predefined answers)\n",
    "- **Goal :** To find pattern, structures or groupings in the data without explicit supervision\n",
    "- Supervised vs unsupervised Learning\n",
    "\n",
    "|Type|Supervised learning |Unsupervised learning |\n",
    "|----|--------------------|----------------------|\n",
    "|Data|Has input + labeled output|Has only input, no labels|\n",
    "|Goal|Learn a mapping from input $\\to$ output| Find hidden structure patterns or groups in data|\n",
    "|Tasks|Classification, Regression etc|Clustering, Dimensionality reduction etc|\n",
    "|Eg:|Input feature of a house|Customer purchase history|\n",
    "\n",
    "- Common tasks:\n",
    "    - Clustering: Grouping similar data points (eg: customer segmentation)\n",
    "    - Dimensionality reduction: Simplifying data while preserving important info\n",
    "    - Anamoly detection: Finding unusual data points\n",
    "- Examples:\n",
    "    - Grouping customers by shopping behaviour\n",
    "    - Compressing images for storage\n",
    "    - Detecting fraud in banking\n",
    "\n",
    "## Clustering\n",
    "- Its an unsupervised learning technique\n",
    "- **Goal :**Group similar data points into clusters so that each point is part of a group and are very similar to each other"
   ]
  }
 ],
 "metadata": {
  "kernelspec": {
   "display_name": ".my-env",
   "language": "python",
   "name": "python3"
  },
  "language_info": {
   "codemirror_mode": {
    "name": "ipython",
    "version": 3
   },
   "file_extension": ".py",
   "mimetype": "text/x-python",
   "name": "python",
   "nbconvert_exporter": "python",
   "pygments_lexer": "ipython3",
   "version": "3.12.11"
  }
 },
 "nbformat": 4,
 "nbformat_minor": 5
}
